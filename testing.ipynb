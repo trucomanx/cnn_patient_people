{
 "cells": [
  {
   "cell_type": "code",
   "execution_count": 1,
   "id": "c3a232a4-4048-4bc8-8611-e73e220894b0",
   "metadata": {},
   "outputs": [
    {
     "name": "stdout",
     "output_type": "stream",
     "text": [
      "Model: \"sequential\"\n",
      "_________________________________________________________________\n",
      "Layer (type)                 Output Shape              Param #   \n",
      "=================================================================\n",
      "keras_layer (KerasLayer)     (None, 1280)              2257984   \n",
      "_________________________________________________________________\n",
      "dense (Dense)                (None, 2)                 2562      \n",
      "=================================================================\n",
      "Total params: 2,260,546\n",
      "Trainable params: 2,562\n",
      "Non-trainable params: 2,257,984\n",
      "_________________________________________________________________\n",
      "<tensorflow.python.keras.engine.sequential.Sequential object at 0x7f9a1cb950a0>\n"
     ]
    }
   ],
   "source": [
    "import tensorflow as tf\n",
    "import lib_model_patient_people as mpp\n",
    "import PIL\n",
    "\n",
    "checkpoint_path='modelo_acc94048.h5';\n",
    "modelo=mpp.load_model_patient_people(checkpoint_path);\n",
    "modelo.summary()\n",
    "print(modelo)"
   ]
  },
  {
   "cell_type": "markdown",
   "id": "a06bb382-0857-47c2-aa29-25f5e1c49c2f",
   "metadata": {},
   "source": [
    "# Testing people"
   ]
  },
  {
   "cell_type": "code",
   "execution_count": 2,
   "id": "06bd8881-fbdc-40d6-854b-3580de16eead",
   "metadata": {},
   "outputs": [
    {
     "name": "stdout",
     "output_type": "stream",
     "text": [
      "False\n",
      "False\n"
     ]
    }
   ],
   "source": [
    "imgfilepath='/mnt/boveda/DATASETs/PATIENT-IMAGES/patient_people/people/filename31.png'\n",
    "res=mpp.evaluate_model_from_file(modelo,imgfilepath);\n",
    "print(res)\n",
    "\n",
    "image = PIL.Image.open(imgfilepath);\n",
    "res=mpp.evaluate_model_from_pil(modelo, image);\n",
    "print(res)"
   ]
  },
  {
   "cell_type": "markdown",
   "id": "9a9f1c60-bdb8-4e84-af69-91756c5a5635",
   "metadata": {},
   "source": [
    "# Testing patient"
   ]
  },
  {
   "cell_type": "code",
   "execution_count": 3,
   "id": "02e49ea1-c418-4e43-9e4b-6013c0aa9a6c",
   "metadata": {},
   "outputs": [
    {
     "name": "stdout",
     "output_type": "stream",
     "text": [
      "True\n",
      "True\n"
     ]
    }
   ],
   "source": [
    "imgfilepath='/mnt/boveda/DATASETs/PATIENT-IMAGES/patient_people/patient/filename31.png'\n",
    "res=mpp.evaluate_model_from_file(modelo,imgfilepath);\n",
    "print(res)\n",
    "\n",
    "image = PIL.Image.open(imgfilepath);\n",
    "res=mpp.evaluate_model_from_pil(modelo, image);\n",
    "print(res)"
   ]
  },
  {
   "cell_type": "code",
   "execution_count": null,
   "id": "257d53cc-1f79-4c90-9614-f5d84e2e89fe",
   "metadata": {},
   "outputs": [],
   "source": []
  }
 ],
 "metadata": {
  "kernelspec": {
   "display_name": "Python 3",
   "language": "python",
   "name": "python3"
  },
  "language_info": {
   "codemirror_mode": {
    "name": "ipython",
    "version": 3
   },
   "file_extension": ".py",
   "mimetype": "text/x-python",
   "name": "python",
   "nbconvert_exporter": "python",
   "pygments_lexer": "ipython3",
   "version": "3.8.10"
  }
 },
 "nbformat": 4,
 "nbformat_minor": 5
}
